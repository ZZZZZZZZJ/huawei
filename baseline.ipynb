{
 "cells": [
  {
   "cell_type": "code",
   "execution_count": 24,
   "metadata": {},
   "outputs": [],
   "source": [
    "import datetime\n",
    "import numpy as np # linear algebra\n",
    "import pandas as pd # data processing, CSV file I/O (e.g. pd.read_csv)\n",
    "import matplotlib.pyplot as plt\n",
    "from scipy import sparse\n",
    "# matplotlib inline\n",
    "import seaborn as sns\n",
    "from sklearn.preprocessing import OneHotEncoder\n",
    "from sklearn.model_selection import StratifiedKFold\n",
    "from sklearn.feature_extraction.text import CountVectorizer\n",
    "import lightgbm as lgb\n",
    "import time\n",
    "\n",
    "sns.set(style=\"whitegrid\", color_codes=True)\n",
    "sns.set(font_scale=1)\n",
    "pd.set_option('display.width',None)"
   ]
  },
  {
   "cell_type": "code",
   "execution_count": 25,
   "metadata": {},
   "outputs": [
    {
     "name": "stdout",
     "output_type": "stream",
     "text": [
      "data prepared step 1!\n",
      "data prepared step 2!\n"
     ]
    }
   ],
   "source": [
    "path = './data'\n",
    "data_train = pd.read_csv(path + \"/age_train.csv\",header=None)\n",
    "data_train.columns = ['uld','label']\n",
    "\n",
    "data_test = pd.read_csv(path + \"/age_test.csv\",header=None)\n",
    "data_test.columns = ['uld']\n",
    "data_test['label'] = -1\n",
    "\n",
    "data_all = pd.concat([data_train,data_test])\n",
    "print('data prepared step 1!')\n",
    "\n",
    "data_user_basic = pd.read_csv(path + \"/user_basic_info.csv\", header=None)\n",
    "user_basic_feature = ['uld','gender','city','prodName','ramCapacity','ramLeftRation','romCapacity','romLeftRation','color','fontSize','ct','carrier','os']\n",
    "data_user_basic.columns = user_basic_feature\n",
    "\n",
    "data_user_behavior = pd.read_csv(path + \"/user_behavior_info.csv\", header=None)\n",
    "user_behavior_feature = ['uld','bootTimes','AFuncTimes','BFuncTimes','CFuncTimes','DFuncTimes','EFuncTimes','FFuncTimes','FFuncSum']\n",
    "data_user_behavior.columns = user_behavior_feature\n",
    "\n",
    "temp  = pd.merge(data_all, data_user_basic,on='uld')\n",
    "data  = pd.merge(temp,data_user_behavior,on='uld')\n",
    "print('data prepared step 2!')\n",
    "cate_feat_list = user_basic_feature[1:] + user_behavior_feature[1:]"
   ]
  },
  {
   "cell_type": "code",
   "execution_count": 26,
   "metadata": {},
   "outputs": [
    {
     "name": "stdout",
     "output_type": "stream",
     "text": [
      "data prepared complete!\n"
     ]
    }
   ],
   "source": [
    "#编码\n",
    "for i in cate_feat_list:\n",
    "    data[i] = data[i].map(dict(zip(data[i].unique(),range(0,data[i].nunique()))))\n",
    "\n",
    "data = data.fillna(data.mean())\n",
    "\n",
    "print('data prepared complete!')\n",
    "count_feature_list = []"
   ]
  },
  {
   "cell_type": "code",
   "execution_count": 27,
   "metadata": {},
   "outputs": [
    {
     "name": "stdout",
     "output_type": "stream",
     "text": [
      "['uld' 'label' 'gender' 'city' 'prodName' 'ramCapacity' 'ramLeftRation'\n",
      " 'romCapacity' 'romLeftRation' 'color' 'fontSize' 'ct' 'carrier' 'os'\n",
      " 'bootTimes' 'AFuncTimes' 'BFuncTimes' 'CFuncTimes' 'DFuncTimes'\n",
      " 'EFuncTimes' 'FFuncTimes' 'FFuncSum']\n"
     ]
    }
   ],
   "source": [
    "print(data.columns.values)"
   ]
  },
  {
   "cell_type": "code",
   "execution_count": 28,
   "metadata": {},
   "outputs": [
    {
     "name": "stdout",
     "output_type": "stream",
     "text": [
      "['uld' 'label' 'gender' 'city' 'prodName' 'ramCapacity' 'ramLeftRation'\n",
      " 'romCapacity' 'romLeftRation' 'color' 'fontSize' 'ct' 'carrier' 'os'\n",
      " 'bootTimes' 'AFuncTimes' 'BFuncTimes' 'CFuncTimes' 'DFuncTimes'\n",
      " 'EFuncTimes' 'FFuncTimes' 'FFuncSum' 'count_city' 'count_prodName'\n",
      " 'count_ramCapacity' 'count_ramLeftRation' 'count_romCapacity'\n",
      " 'count_romLeftRation' 'count_color' 'count_fontSize' 'count_ct'\n",
      " 'count_os' 'count_bootTimes' 'count_AFuncTimes' 'count_BFuncTimes'\n",
      " 'count_CFuncTimes' 'count_DFuncTimes' 'count_EFuncTimes'\n",
      " 'count_FFuncTimes' 'count_FFuncSum']\n"
     ]
    }
   ],
   "source": [
    "#特征计数\n",
    "def feature_count(data, features=[], is_feature=True):\n",
    "    if len(set(features)) != len(features):\n",
    "        print('equal feature !!!!')\n",
    "        return data\n",
    "    new_feature = 'count'\n",
    "    nunique = []\n",
    "    for i in features:\n",
    "        nunique.append(data[i].nunique())\n",
    "        new_feature += '_' + i.replace('add_','')\n",
    "    if len(features) > 1 and len(data[features].drop_duplicates()) <= np.max(nunique):\n",
    "        print(new_feature, 'is unvalid cross feature:')\n",
    "        return data\n",
    "    temp = data.groupby(features).size().reset_index().rename(columns={0: new_feature})\n",
    "    data = data.merge(temp,'left',on=features)\n",
    "    if is_feature:\n",
    "        count_feature_list.append(new_feature)\n",
    "    return data\n",
    "\n",
    "for i in cate_feat_list:\n",
    "    n = data[i].nunique()\n",
    "    if n > 5:\n",
    "        data = feature_count(data,[i])\n",
    "\n",
    "print(data.columns.values)"
   ]
  },
  {
   "cell_type": "code",
   "execution_count": 29,
   "metadata": {},
   "outputs": [
    {
     "name": "stdout",
     "output_type": "stream",
     "text": [
      "38 ['gender', 'city', 'prodName', 'ramCapacity', 'ramLeftRation', 'romCapacity', 'romLeftRation', 'color', 'fontSize', 'ct', 'carrier', 'os', 'bootTimes', 'AFuncTimes', 'BFuncTimes', 'CFuncTimes', 'DFuncTimes', 'EFuncTimes', 'FFuncTimes', 'FFuncSum', 'count_city', 'count_prodName', 'count_ramCapacity', 'count_ramLeftRation', 'count_romCapacity', 'count_romLeftRation', 'count_color', 'count_fontSize', 'count_ct', 'count_os', 'count_bootTimes', 'count_AFuncTimes', 'count_BFuncTimes', 'count_CFuncTimes', 'count_DFuncTimes', 'count_EFuncTimes', 'count_FFuncTimes', 'count_FFuncSum']\n",
      "city\n",
      "prodName\n",
      "ramCapacity\n",
      "ramLeftRation\n",
      "romCapacity\n",
      "romLeftRation\n",
      "color\n",
      "fontSize\n",
      "ct\n",
      "os\n",
      "bootTimes\n",
      "AFuncTimes\n",
      "BFuncTimes\n",
      "CFuncTimes\n",
      "DFuncTimes\n",
      "EFuncTimes\n",
      "FFuncTimes\n",
      "FFuncSum\n",
      "['uld' 'label' 'gender' 'city' 'prodName' 'ramCapacity' 'ramLeftRation'\n",
      " 'romCapacity' 'romLeftRation' 'color' 'fontSize' 'ct' 'carrier' 'os'\n",
      " 'bootTimes' 'AFuncTimes' 'BFuncTimes' 'CFuncTimes' 'DFuncTimes'\n",
      " 'EFuncTimes' 'FFuncTimes' 'FFuncSum' 'count_city' 'count_prodName'\n",
      " 'count_ramCapacity' 'count_ramLeftRation' 'count_romCapacity'\n",
      " 'count_romLeftRation' 'count_color' 'count_fontSize' 'count_ct'\n",
      " 'count_os' 'count_bootTimes' 'count_AFuncTimes' 'count_BFuncTimes'\n",
      " 'count_CFuncTimes' 'count_DFuncTimes' 'count_EFuncTimes'\n",
      " 'count_FFuncTimes' 'count_FFuncSum']\n"
     ]
    }
   ],
   "source": [
    "feature = cate_feat_list + count_feature_list #采用基本特征+计数特征\n",
    "print(len(feature),feature)\n",
    "\n",
    "#print(data.head())\n",
    "\n",
    "#低频过滤\n",
    "for feature in cate_feat_list:\n",
    "    if 'count_' + feature in data.keys():\n",
    "        print(feature)\n",
    "        data.loc[data['count_'+feature]<2, feature] = -1\n",
    "        data[feature] = data[feature] + 1\n",
    "        \n",
    "print(data.columns.values)"
   ]
  },
  {
   "cell_type": "code",
   "execution_count": 30,
   "metadata": {},
   "outputs": [
    {
     "name": "stderr",
     "output_type": "stream",
     "text": [
      "/home/iprai/anaconda3/lib/python3.7/site-packages/ipykernel_launcher.py:6: SettingWithCopyWarning: \n",
      "A value is trying to be set on a copy of a slice from a DataFrame.\n",
      "Try using .loc[row_indexer,col_indexer] = value instead\n",
      "\n",
      "See the caveats in the documentation: http://pandas.pydata.org/pandas-docs/stable/indexing.html#indexing-view-versus-copy\n",
      "  \n"
     ]
    },
    {
     "name": "stdout",
     "output_type": "stream",
     "text": [
      "['uld' 'gender' 'city' 'prodName' 'ramCapacity' 'ramLeftRation'\n",
      " 'romCapacity' 'romLeftRation' 'color' 'fontSize' 'ct' 'carrier' 'os'\n",
      " 'bootTimes' 'AFuncTimes' 'BFuncTimes' 'CFuncTimes' 'DFuncTimes'\n",
      " 'EFuncTimes' 'FFuncTimes' 'FFuncSum' 'count_city' 'count_prodName'\n",
      " 'count_ramCapacity' 'count_ramLeftRation' 'count_romCapacity'\n",
      " 'count_romLeftRation' 'count_color' 'count_fontSize' 'count_ct'\n",
      " 'count_os' 'count_bootTimes' 'count_AFuncTimes' 'count_BFuncTimes'\n",
      " 'count_CFuncTimes' 'count_DFuncTimes' 'count_EFuncTimes'\n",
      " 'count_FFuncTimes' 'count_FFuncSum']\n",
      "2010000\n"
     ]
    }
   ],
   "source": [
    "predict = data[(data.label == -1)]\n",
    "#print(predict.head())\n",
    "predict_result = predict[['uld']]\n",
    "pred_temp = predict[['uld']]\n",
    "#print(predict_result.head())\n",
    "predict_result['predicted_score'] = 0\n",
    "predict_x = predict.drop('label',axis=1)\n",
    "print(predict_x.columns.values)\n",
    "train_x = data[data.label != -1].reset_index(drop=True)\n",
    "train_y = train_x.pop('label').values\n",
    "print(train_y.size)\n",
    "base_train_csr = sparse.csr_matrix((len(train_x),0))\n",
    "base_predict_csr = sparse.csr_matrix((len(predict_x),0))"
   ]
  },
  {
   "cell_type": "code",
   "execution_count": 31,
   "metadata": {},
   "outputs": [
    {
     "name": "stderr",
     "output_type": "stream",
     "text": [
      "/home/iprai/anaconda3/lib/python3.7/site-packages/sklearn/preprocessing/_encoders.py:368: FutureWarning: The handling of integer data will change in version 0.22. Currently, the categories are determined based on the range [0, max(values)], while in the future they will be determined based on the unique values.\n",
      "If you want the future behaviour and silence this warning, you can specify \"categories='auto'\".\n",
      "In case you used a LabelEncoder before this OneHotEncoder to convert the categories to integers, then you can now use the OneHotEncoder directly.\n",
      "  warnings.warn(msg, FutureWarning)\n",
      "/home/iprai/anaconda3/lib/python3.7/site-packages/sklearn/preprocessing/_encoders.py:368: FutureWarning: The handling of integer data will change in version 0.22. Currently, the categories are determined based on the range [0, max(values)], while in the future they will be determined based on the unique values.\n",
      "If you want the future behaviour and silence this warning, you can specify \"categories='auto'\".\n",
      "In case you used a LabelEncoder before this OneHotEncoder to convert the categories to integers, then you can now use the OneHotEncoder directly.\n",
      "  warnings.warn(msg, FutureWarning)\n",
      "/home/iprai/anaconda3/lib/python3.7/site-packages/sklearn/preprocessing/_encoders.py:368: FutureWarning: The handling of integer data will change in version 0.22. Currently, the categories are determined based on the range [0, max(values)], while in the future they will be determined based on the unique values.\n",
      "If you want the future behaviour and silence this warning, you can specify \"categories='auto'\".\n",
      "In case you used a LabelEncoder before this OneHotEncoder to convert the categories to integers, then you can now use the OneHotEncoder directly.\n",
      "  warnings.warn(msg, FutureWarning)\n",
      "/home/iprai/anaconda3/lib/python3.7/site-packages/sklearn/preprocessing/_encoders.py:368: FutureWarning: The handling of integer data will change in version 0.22. Currently, the categories are determined based on the range [0, max(values)], while in the future they will be determined based on the unique values.\n",
      "If you want the future behaviour and silence this warning, you can specify \"categories='auto'\".\n",
      "In case you used a LabelEncoder before this OneHotEncoder to convert the categories to integers, then you can now use the OneHotEncoder directly.\n",
      "  warnings.warn(msg, FutureWarning)\n",
      "/home/iprai/anaconda3/lib/python3.7/site-packages/sklearn/preprocessing/_encoders.py:368: FutureWarning: The handling of integer data will change in version 0.22. Currently, the categories are determined based on the range [0, max(values)], while in the future they will be determined based on the unique values.\n",
      "If you want the future behaviour and silence this warning, you can specify \"categories='auto'\".\n",
      "In case you used a LabelEncoder before this OneHotEncoder to convert the categories to integers, then you can now use the OneHotEncoder directly.\n",
      "  warnings.warn(msg, FutureWarning)\n",
      "/home/iprai/anaconda3/lib/python3.7/site-packages/sklearn/preprocessing/_encoders.py:368: FutureWarning: The handling of integer data will change in version 0.22. Currently, the categories are determined based on the range [0, max(values)], while in the future they will be determined based on the unique values.\n",
      "If you want the future behaviour and silence this warning, you can specify \"categories='auto'\".\n",
      "In case you used a LabelEncoder before this OneHotEncoder to convert the categories to integers, then you can now use the OneHotEncoder directly.\n",
      "  warnings.warn(msg, FutureWarning)\n",
      "/home/iprai/anaconda3/lib/python3.7/site-packages/sklearn/preprocessing/_encoders.py:368: FutureWarning: The handling of integer data will change in version 0.22. Currently, the categories are determined based on the range [0, max(values)], while in the future they will be determined based on the unique values.\n",
      "If you want the future behaviour and silence this warning, you can specify \"categories='auto'\".\n",
      "In case you used a LabelEncoder before this OneHotEncoder to convert the categories to integers, then you can now use the OneHotEncoder directly.\n",
      "  warnings.warn(msg, FutureWarning)\n",
      "/home/iprai/anaconda3/lib/python3.7/site-packages/sklearn/preprocessing/_encoders.py:368: FutureWarning: The handling of integer data will change in version 0.22. Currently, the categories are determined based on the range [0, max(values)], while in the future they will be determined based on the unique values.\n",
      "If you want the future behaviour and silence this warning, you can specify \"categories='auto'\".\n",
      "In case you used a LabelEncoder before this OneHotEncoder to convert the categories to integers, then you can now use the OneHotEncoder directly.\n",
      "  warnings.warn(msg, FutureWarning)\n",
      "/home/iprai/anaconda3/lib/python3.7/site-packages/sklearn/preprocessing/_encoders.py:368: FutureWarning: The handling of integer data will change in version 0.22. Currently, the categories are determined based on the range [0, max(values)], while in the future they will be determined based on the unique values.\n",
      "If you want the future behaviour and silence this warning, you can specify \"categories='auto'\".\n",
      "In case you used a LabelEncoder before this OneHotEncoder to convert the categories to integers, then you can now use the OneHotEncoder directly.\n",
      "  warnings.warn(msg, FutureWarning)\n",
      "/home/iprai/anaconda3/lib/python3.7/site-packages/sklearn/preprocessing/_encoders.py:368: FutureWarning: The handling of integer data will change in version 0.22. Currently, the categories are determined based on the range [0, max(values)], while in the future they will be determined based on the unique values.\n",
      "If you want the future behaviour and silence this warning, you can specify \"categories='auto'\".\n",
      "In case you used a LabelEncoder before this OneHotEncoder to convert the categories to integers, then you can now use the OneHotEncoder directly.\n",
      "  warnings.warn(msg, FutureWarning)\n",
      "/home/iprai/anaconda3/lib/python3.7/site-packages/sklearn/preprocessing/_encoders.py:368: FutureWarning: The handling of integer data will change in version 0.22. Currently, the categories are determined based on the range [0, max(values)], while in the future they will be determined based on the unique values.\n",
      "If you want the future behaviour and silence this warning, you can specify \"categories='auto'\".\n",
      "In case you used a LabelEncoder before this OneHotEncoder to convert the categories to integers, then you can now use the OneHotEncoder directly.\n",
      "  warnings.warn(msg, FutureWarning)\n",
      "/home/iprai/anaconda3/lib/python3.7/site-packages/sklearn/preprocessing/_encoders.py:368: FutureWarning: The handling of integer data will change in version 0.22. Currently, the categories are determined based on the range [0, max(values)], while in the future they will be determined based on the unique values.\n",
      "If you want the future behaviour and silence this warning, you can specify \"categories='auto'\".\n",
      "In case you used a LabelEncoder before this OneHotEncoder to convert the categories to integers, then you can now use the OneHotEncoder directly.\n",
      "  warnings.warn(msg, FutureWarning)\n",
      "/home/iprai/anaconda3/lib/python3.7/site-packages/sklearn/preprocessing/_encoders.py:368: FutureWarning: The handling of integer data will change in version 0.22. Currently, the categories are determined based on the range [0, max(values)], while in the future they will be determined based on the unique values.\n",
      "If you want the future behaviour and silence this warning, you can specify \"categories='auto'\".\n",
      "In case you used a LabelEncoder before this OneHotEncoder to convert the categories to integers, then you can now use the OneHotEncoder directly.\n",
      "  warnings.warn(msg, FutureWarning)\n",
      "/home/iprai/anaconda3/lib/python3.7/site-packages/sklearn/preprocessing/_encoders.py:368: FutureWarning: The handling of integer data will change in version 0.22. Currently, the categories are determined based on the range [0, max(values)], while in the future they will be determined based on the unique values.\n",
      "If you want the future behaviour and silence this warning, you can specify \"categories='auto'\".\n",
      "In case you used a LabelEncoder before this OneHotEncoder to convert the categories to integers, then you can now use the OneHotEncoder directly.\n",
      "  warnings.warn(msg, FutureWarning)\n"
     ]
    },
    {
     "name": "stderr",
     "output_type": "stream",
     "text": [
      "/home/iprai/anaconda3/lib/python3.7/site-packages/sklearn/preprocessing/_encoders.py:368: FutureWarning: The handling of integer data will change in version 0.22. Currently, the categories are determined based on the range [0, max(values)], while in the future they will be determined based on the unique values.\n",
      "If you want the future behaviour and silence this warning, you can specify \"categories='auto'\".\n",
      "In case you used a LabelEncoder before this OneHotEncoder to convert the categories to integers, then you can now use the OneHotEncoder directly.\n",
      "  warnings.warn(msg, FutureWarning)\n",
      "/home/iprai/anaconda3/lib/python3.7/site-packages/sklearn/preprocessing/_encoders.py:368: FutureWarning: The handling of integer data will change in version 0.22. Currently, the categories are determined based on the range [0, max(values)], while in the future they will be determined based on the unique values.\n",
      "If you want the future behaviour and silence this warning, you can specify \"categories='auto'\".\n",
      "In case you used a LabelEncoder before this OneHotEncoder to convert the categories to integers, then you can now use the OneHotEncoder directly.\n",
      "  warnings.warn(msg, FutureWarning)\n",
      "/home/iprai/anaconda3/lib/python3.7/site-packages/sklearn/preprocessing/_encoders.py:368: FutureWarning: The handling of integer data will change in version 0.22. Currently, the categories are determined based on the range [0, max(values)], while in the future they will be determined based on the unique values.\n",
      "If you want the future behaviour and silence this warning, you can specify \"categories='auto'\".\n",
      "In case you used a LabelEncoder before this OneHotEncoder to convert the categories to integers, then you can now use the OneHotEncoder directly.\n",
      "  warnings.warn(msg, FutureWarning)\n",
      "/home/iprai/anaconda3/lib/python3.7/site-packages/sklearn/preprocessing/_encoders.py:368: FutureWarning: The handling of integer data will change in version 0.22. Currently, the categories are determined based on the range [0, max(values)], while in the future they will be determined based on the unique values.\n",
      "If you want the future behaviour and silence this warning, you can specify \"categories='auto'\".\n",
      "In case you used a LabelEncoder before this OneHotEncoder to convert the categories to integers, then you can now use the OneHotEncoder directly.\n",
      "  warnings.warn(msg, FutureWarning)\n",
      "/home/iprai/anaconda3/lib/python3.7/site-packages/sklearn/preprocessing/_encoders.py:368: FutureWarning: The handling of integer data will change in version 0.22. Currently, the categories are determined based on the range [0, max(values)], while in the future they will be determined based on the unique values.\n",
      "If you want the future behaviour and silence this warning, you can specify \"categories='auto'\".\n",
      "In case you used a LabelEncoder before this OneHotEncoder to convert the categories to integers, then you can now use the OneHotEncoder directly.\n",
      "  warnings.warn(msg, FutureWarning)\n",
      "/home/iprai/anaconda3/lib/python3.7/site-packages/sklearn/preprocessing/_encoders.py:368: FutureWarning: The handling of integer data will change in version 0.22. Currently, the categories are determined based on the range [0, max(values)], while in the future they will be determined based on the unique values.\n",
      "If you want the future behaviour and silence this warning, you can specify \"categories='auto'\".\n",
      "In case you used a LabelEncoder before this OneHotEncoder to convert the categories to integers, then you can now use the OneHotEncoder directly.\n",
      "  warnings.warn(msg, FutureWarning)\n"
     ]
    },
    {
     "name": "stdout",
     "output_type": "stream",
     "text": [
      "one-hot prepared!\n"
     ]
    }
   ],
   "source": [
    "enc = OneHotEncoder()\n",
    "for feature in cate_feat_list:\n",
    "    enc.fit(data[feature].values.reshape(-1,1))\n",
    "    base_train_csr = sparse.hstack((base_train_csr,enc.transform(train_x[feature].values.reshape(-1,1))),'csr','bool')\n",
    "    base_predict_csr = sparse.hstack((base_predict_csr,enc.transform(predict[feature].values.reshape(-1,1))),'csr','bool')\n",
    "print('one-hot prepared!')"
   ]
  },
  {
   "cell_type": "code",
   "execution_count": 32,
   "metadata": {},
   "outputs": [
    {
     "name": "stdout",
     "output_type": "stream",
     "text": [
      "['uld' 'gender' 'city' 'prodName' 'ramCapacity' 'ramLeftRation'\n",
      " 'romCapacity' 'romLeftRation' 'color' 'fontSize' 'ct' 'carrier' 'os'\n",
      " 'bootTimes' 'AFuncTimes' 'BFuncTimes' 'CFuncTimes' 'DFuncTimes'\n",
      " 'EFuncTimes' 'FFuncTimes' 'FFuncSum' 'count_city' 'count_prodName'\n",
      " 'count_ramCapacity' 'count_ramLeftRation' 'count_romCapacity'\n",
      " 'count_romLeftRation' 'count_color' 'count_fontSize' 'count_ct'\n",
      " 'count_os' 'count_bootTimes' 'count_AFuncTimes' 'count_BFuncTimes'\n",
      " 'count_CFuncTimes' 'count_DFuncTimes' 'count_EFuncTimes'\n",
      " 'count_FFuncTimes' 'count_FFuncSum']\n",
      "[4 3 5 ... 2 2 3]\n",
      "Training until validation scores don't improve for 200 rounds.\n",
      "[10]\tvalid_0's multi_logloss: 1.4775\tvalid_1's multi_logloss: 1.47931\n",
      "[20]\tvalid_0's multi_logloss: 1.42631\tvalid_1's multi_logloss: 1.42973\n",
      "[30]\tvalid_0's multi_logloss: 1.39967\tvalid_1's multi_logloss: 1.40468\n",
      "[40]\tvalid_0's multi_logloss: 1.38279\tvalid_1's multi_logloss: 1.3893\n",
      "[50]\tvalid_0's multi_logloss: 1.37081\tvalid_1's multi_logloss: 1.37871\n",
      "[60]\tvalid_0's multi_logloss: 1.36137\tvalid_1's multi_logloss: 1.37057\n",
      "[70]\tvalid_0's multi_logloss: 1.35404\tvalid_1's multi_logloss: 1.36462\n",
      "[80]\tvalid_0's multi_logloss: 1.34777\tvalid_1's multi_logloss: 1.35971\n",
      "[90]\tvalid_0's multi_logloss: 1.34238\tvalid_1's multi_logloss: 1.35567\n",
      "[100]\tvalid_0's multi_logloss: 1.33758\tvalid_1's multi_logloss: 1.35224\n",
      "[110]\tvalid_0's multi_logloss: 1.33349\tvalid_1's multi_logloss: 1.34951\n",
      "[120]\tvalid_0's multi_logloss: 1.32977\tvalid_1's multi_logloss: 1.34716\n",
      "[130]\tvalid_0's multi_logloss: 1.32639\tvalid_1's multi_logloss: 1.34511\n",
      "[140]\tvalid_0's multi_logloss: 1.32327\tvalid_1's multi_logloss: 1.34332\n",
      "[150]\tvalid_0's multi_logloss: 1.32046\tvalid_1's multi_logloss: 1.34188\n",
      "[160]\tvalid_0's multi_logloss: 1.31783\tvalid_1's multi_logloss: 1.3406\n",
      "[170]\tvalid_0's multi_logloss: 1.31542\tvalid_1's multi_logloss: 1.33952\n",
      "[180]\tvalid_0's multi_logloss: 1.31323\tvalid_1's multi_logloss: 1.33864\n",
      "[190]\tvalid_0's multi_logloss: 1.31111\tvalid_1's multi_logloss: 1.33785\n",
      "[200]\tvalid_0's multi_logloss: 1.30913\tvalid_1's multi_logloss: 1.33716\n",
      "[210]\tvalid_0's multi_logloss: 1.30723\tvalid_1's multi_logloss: 1.33655\n",
      "[220]\tvalid_0's multi_logloss: 1.30542\tvalid_1's multi_logloss: 1.33603\n",
      "[230]\tvalid_0's multi_logloss: 1.30377\tvalid_1's multi_logloss: 1.33565\n",
      "[240]\tvalid_0's multi_logloss: 1.30212\tvalid_1's multi_logloss: 1.33526\n",
      "[250]\tvalid_0's multi_logloss: 1.3006\tvalid_1's multi_logloss: 1.33498\n",
      "[260]\tvalid_0's multi_logloss: 1.29915\tvalid_1's multi_logloss: 1.33477\n",
      "[270]\tvalid_0's multi_logloss: 1.29773\tvalid_1's multi_logloss: 1.33458\n",
      "[280]\tvalid_0's multi_logloss: 1.29638\tvalid_1's multi_logloss: 1.33446\n",
      "[290]\tvalid_0's multi_logloss: 1.29503\tvalid_1's multi_logloss: 1.33431\n",
      "[300]\tvalid_0's multi_logloss: 1.29373\tvalid_1's multi_logloss: 1.33419\n",
      "[310]\tvalid_0's multi_logloss: 1.29246\tvalid_1's multi_logloss: 1.33408\n",
      "[320]\tvalid_0's multi_logloss: 1.29122\tvalid_1's multi_logloss: 1.33398\n",
      "[330]\tvalid_0's multi_logloss: 1.28998\tvalid_1's multi_logloss: 1.33389\n",
      "[340]\tvalid_0's multi_logloss: 1.28876\tvalid_1's multi_logloss: 1.33382\n",
      "[350]\tvalid_0's multi_logloss: 1.28758\tvalid_1's multi_logloss: 1.33376\n",
      "[360]\tvalid_0's multi_logloss: 1.28642\tvalid_1's multi_logloss: 1.33371\n",
      "[370]\tvalid_0's multi_logloss: 1.28527\tvalid_1's multi_logloss: 1.33365\n",
      "[380]\tvalid_0's multi_logloss: 1.28412\tvalid_1's multi_logloss: 1.33358\n",
      "[390]\tvalid_0's multi_logloss: 1.28298\tvalid_1's multi_logloss: 1.33353\n",
      "[400]\tvalid_0's multi_logloss: 1.28186\tvalid_1's multi_logloss: 1.33348\n",
      "[410]\tvalid_0's multi_logloss: 1.28071\tvalid_1's multi_logloss: 1.33343\n",
      "[420]\tvalid_0's multi_logloss: 1.27964\tvalid_1's multi_logloss: 1.33341\n",
      "[430]\tvalid_0's multi_logloss: 1.27859\tvalid_1's multi_logloss: 1.33337\n",
      "[440]\tvalid_0's multi_logloss: 1.27754\tvalid_1's multi_logloss: 1.33336\n",
      "[450]\tvalid_0's multi_logloss: 1.27647\tvalid_1's multi_logloss: 1.33333\n",
      "[460]\tvalid_0's multi_logloss: 1.2754\tvalid_1's multi_logloss: 1.33329\n",
      "[470]\tvalid_0's multi_logloss: 1.27437\tvalid_1's multi_logloss: 1.33329\n",
      "[480]\tvalid_0's multi_logloss: 1.27332\tvalid_1's multi_logloss: 1.33327\n",
      "[490]\tvalid_0's multi_logloss: 1.27221\tvalid_1's multi_logloss: 1.33322\n",
      "[500]\tvalid_0's multi_logloss: 1.27115\tvalid_1's multi_logloss: 1.33318\n",
      "[510]\tvalid_0's multi_logloss: 1.27009\tvalid_1's multi_logloss: 1.33315\n",
      "[520]\tvalid_0's multi_logloss: 1.26899\tvalid_1's multi_logloss: 1.33309\n",
      "[530]\tvalid_0's multi_logloss: 1.26799\tvalid_1's multi_logloss: 1.33309\n",
      "[540]\tvalid_0's multi_logloss: 1.26697\tvalid_1's multi_logloss: 1.33306\n",
      "[550]\tvalid_0's multi_logloss: 1.26596\tvalid_1's multi_logloss: 1.33305\n",
      "[560]\tvalid_0's multi_logloss: 1.26494\tvalid_1's multi_logloss: 1.33303\n",
      "[570]\tvalid_0's multi_logloss: 1.26395\tvalid_1's multi_logloss: 1.33303\n",
      "[580]\tvalid_0's multi_logloss: 1.26298\tvalid_1's multi_logloss: 1.33301\n",
      "[590]\tvalid_0's multi_logloss: 1.26205\tvalid_1's multi_logloss: 1.33301\n",
      "[600]\tvalid_0's multi_logloss: 1.26107\tvalid_1's multi_logloss: 1.33301\n",
      "[610]\tvalid_0's multi_logloss: 1.26006\tvalid_1's multi_logloss: 1.33297\n",
      "[620]\tvalid_0's multi_logloss: 1.25908\tvalid_1's multi_logloss: 1.33295\n",
      "[630]\tvalid_0's multi_logloss: 1.25813\tvalid_1's multi_logloss: 1.33294\n",
      "[640]\tvalid_0's multi_logloss: 1.25715\tvalid_1's multi_logloss: 1.33295\n",
      "[650]\tvalid_0's multi_logloss: 1.25622\tvalid_1's multi_logloss: 1.33294\n",
      "[660]\tvalid_0's multi_logloss: 1.25525\tvalid_1's multi_logloss: 1.33294\n",
      "[670]\tvalid_0's multi_logloss: 1.25428\tvalid_1's multi_logloss: 1.33291\n",
      "[680]\tvalid_0's multi_logloss: 1.25335\tvalid_1's multi_logloss: 1.33292\n",
      "[690]\tvalid_0's multi_logloss: 1.25244\tvalid_1's multi_logloss: 1.33292\n",
      "[700]\tvalid_0's multi_logloss: 1.25153\tvalid_1's multi_logloss: 1.33293\n",
      "[710]\tvalid_0's multi_logloss: 1.25059\tvalid_1's multi_logloss: 1.33293\n",
      "[720]\tvalid_0's multi_logloss: 1.24969\tvalid_1's multi_logloss: 1.33293\n",
      "[730]\tvalid_0's multi_logloss: 1.24874\tvalid_1's multi_logloss: 1.33291\n",
      "[740]\tvalid_0's multi_logloss: 1.24781\tvalid_1's multi_logloss: 1.33292\n",
      "[750]\tvalid_0's multi_logloss: 1.24689\tvalid_1's multi_logloss: 1.33292\n",
      "[760]\tvalid_0's multi_logloss: 1.246\tvalid_1's multi_logloss: 1.33293\n",
      "[770]\tvalid_0's multi_logloss: 1.24508\tvalid_1's multi_logloss: 1.33294\n",
      "[780]\tvalid_0's multi_logloss: 1.24414\tvalid_1's multi_logloss: 1.33292\n",
      "[790]\tvalid_0's multi_logloss: 1.24324\tvalid_1's multi_logloss: 1.33293\n",
      "[800]\tvalid_0's multi_logloss: 1.2424\tvalid_1's multi_logloss: 1.33295\n",
      "[810]\tvalid_0's multi_logloss: 1.24148\tvalid_1's multi_logloss: 1.33297\n",
      "[820]\tvalid_0's multi_logloss: 1.24057\tvalid_1's multi_logloss: 1.33297\n",
      "[830]\tvalid_0's multi_logloss: 1.23966\tvalid_1's multi_logloss: 1.33298\n",
      "[840]\tvalid_0's multi_logloss: 1.23872\tvalid_1's multi_logloss: 1.33297\n",
      "[850]\tvalid_0's multi_logloss: 1.23787\tvalid_1's multi_logloss: 1.33298\n",
      "[860]\tvalid_0's multi_logloss: 1.23699\tvalid_1's multi_logloss: 1.33298\n",
      "[870]\tvalid_0's multi_logloss: 1.2361\tvalid_1's multi_logloss: 1.33298\n",
      "[880]\tvalid_0's multi_logloss: 1.23523\tvalid_1's multi_logloss: 1.33299\n",
      "Early stopping, best iteration is:\n",
      "[687]\tvalid_0's multi_logloss: 1.2527\tvalid_1's multi_logloss: 1.33291\n",
      "[1.3329089575557205]\n",
      "[3 3 2 ... 3 3 3]\n"
     ]
    },
    {
     "name": "stderr",
     "output_type": "stream",
     "text": [
      "/home/iprai/anaconda3/lib/python3.7/site-packages/ipykernel_launcher.py:23: SettingWithCopyWarning: \n",
      "A value is trying to be set on a copy of a slice from a DataFrame.\n",
      "Try using .loc[row_indexer,col_indexer] = value instead\n",
      "\n",
      "See the caveats in the documentation: http://pandas.pydata.org/pandas-docs/stable/indexing.html#indexing-view-versus-copy\n"
     ]
    },
    {
     "ename": "KeyError",
     "evalue": "'predicted_score'",
     "output_type": "error",
     "traceback": [
      "\u001b[0;31m---------------------------------------------------------------------------\u001b[0m",
      "\u001b[0;31mKeyError\u001b[0m                                  Traceback (most recent call last)",
      "\u001b[0;32m~/anaconda3/lib/python3.7/site-packages/pandas/core/indexes/base.py\u001b[0m in \u001b[0;36mget_loc\u001b[0;34m(self, key, method, tolerance)\u001b[0m\n\u001b[1;32m   3077\u001b[0m             \u001b[0;32mtry\u001b[0m\u001b[0;34m:\u001b[0m\u001b[0;34m\u001b[0m\u001b[0;34m\u001b[0m\u001b[0m\n\u001b[0;32m-> 3078\u001b[0;31m                 \u001b[0;32mreturn\u001b[0m \u001b[0mself\u001b[0m\u001b[0;34m.\u001b[0m\u001b[0m_engine\u001b[0m\u001b[0;34m.\u001b[0m\u001b[0mget_loc\u001b[0m\u001b[0;34m(\u001b[0m\u001b[0mkey\u001b[0m\u001b[0;34m)\u001b[0m\u001b[0;34m\u001b[0m\u001b[0;34m\u001b[0m\u001b[0m\n\u001b[0m\u001b[1;32m   3079\u001b[0m             \u001b[0;32mexcept\u001b[0m \u001b[0mKeyError\u001b[0m\u001b[0;34m:\u001b[0m\u001b[0;34m\u001b[0m\u001b[0;34m\u001b[0m\u001b[0m\n",
      "\u001b[0;32mpandas/_libs/index.pyx\u001b[0m in \u001b[0;36mpandas._libs.index.IndexEngine.get_loc\u001b[0;34m()\u001b[0m\n",
      "\u001b[0;32mpandas/_libs/index.pyx\u001b[0m in \u001b[0;36mpandas._libs.index.IndexEngine.get_loc\u001b[0;34m()\u001b[0m\n",
      "\u001b[0;32mpandas/_libs/hashtable_class_helper.pxi\u001b[0m in \u001b[0;36mpandas._libs.hashtable.PyObjectHashTable.get_item\u001b[0;34m()\u001b[0m\n",
      "\u001b[0;32mpandas/_libs/hashtable_class_helper.pxi\u001b[0m in \u001b[0;36mpandas._libs.hashtable.PyObjectHashTable.get_item\u001b[0;34m()\u001b[0m\n",
      "\u001b[0;31mKeyError\u001b[0m: 'predicted_score'",
      "\nDuring handling of the above exception, another exception occurred:\n",
      "\u001b[0;31mKeyError\u001b[0m                                  Traceback (most recent call last)",
      "\u001b[0;32m<ipython-input-32-c711a04647a3>\u001b[0m in \u001b[0;36m<module>\u001b[0;34m\u001b[0m\n\u001b[1;32m     25\u001b[0m     \u001b[0mnow\u001b[0m \u001b[0;34m=\u001b[0m \u001b[0mnow\u001b[0m\u001b[0;34m.\u001b[0m\u001b[0mstrftime\u001b[0m\u001b[0;34m(\u001b[0m\u001b[0;34m'%m-%d-%H-%M'\u001b[0m\u001b[0;34m)\u001b[0m\u001b[0;34m\u001b[0m\u001b[0;34m\u001b[0m\u001b[0m\n\u001b[1;32m     26\u001b[0m     \u001b[0mpred_temp\u001b[0m\u001b[0;34m[\u001b[0m\u001b[0;34m[\u001b[0m\u001b[0;34m'uld'\u001b[0m\u001b[0;34m,\u001b[0m\u001b[0;34m'label'\u001b[0m\u001b[0;34m]\u001b[0m\u001b[0;34m]\u001b[0m\u001b[0;34m.\u001b[0m\u001b[0mto_csv\u001b[0m\u001b[0;34m(\u001b[0m\u001b[0mpath\u001b[0m \u001b[0;34m+\u001b[0m \u001b[0;34m\"/submission/lgb_baseline_split_%s.csv\"\u001b[0m \u001b[0;34m%\u001b[0m \u001b[0mnow\u001b[0m\u001b[0;34m,\u001b[0m \u001b[0mindex\u001b[0m\u001b[0;34m=\u001b[0m\u001b[0;32mFalse\u001b[0m\u001b[0;34m)\u001b[0m\u001b[0;34m\u001b[0m\u001b[0;34m\u001b[0m\u001b[0m\n\u001b[0;32m---> 27\u001b[0;31m     \u001b[0mpredict_result\u001b[0m\u001b[0;34m[\u001b[0m\u001b[0;34m'predicted_score'\u001b[0m\u001b[0;34m]\u001b[0m \u001b[0;34m=\u001b[0m \u001b[0mpredict_result\u001b[0m\u001b[0;34m[\u001b[0m\u001b[0;34m'predicted_score'\u001b[0m\u001b[0;34m]\u001b[0m \u001b[0;34m+\u001b[0m \u001b[0mtest_pred\u001b[0m\u001b[0;34m\u001b[0m\u001b[0;34m\u001b[0m\u001b[0m\n\u001b[0m\u001b[1;32m     28\u001b[0m \u001b[0mpredict_result\u001b[0m\u001b[0;34m[\u001b[0m\u001b[0;34m'predicted_score'\u001b[0m\u001b[0;34m]\u001b[0m \u001b[0;34m=\u001b[0m \u001b[0mpredict_result\u001b[0m\u001b[0;34m[\u001b[0m\u001b[0;34m'predicted_score'\u001b[0m\u001b[0;34m]\u001b[0m \u001b[0;34m/\u001b[0m \u001b[0;36m5\u001b[0m\u001b[0;34m\u001b[0m\u001b[0;34m\u001b[0m\u001b[0m\n\u001b[1;32m     29\u001b[0m \u001b[0mmean\u001b[0m \u001b[0;34m=\u001b[0m \u001b[0mpredict_result\u001b[0m\u001b[0;34m[\u001b[0m\u001b[0;34m'predicted_score'\u001b[0m\u001b[0;34m]\u001b[0m\u001b[0;34m.\u001b[0m\u001b[0mmean\u001b[0m\u001b[0;34m(\u001b[0m\u001b[0;34m)\u001b[0m\u001b[0;34m\u001b[0m\u001b[0;34m\u001b[0m\u001b[0m\n",
      "\u001b[0;32m~/anaconda3/lib/python3.7/site-packages/pandas/core/frame.py\u001b[0m in \u001b[0;36m__getitem__\u001b[0;34m(self, key)\u001b[0m\n\u001b[1;32m   2686\u001b[0m             \u001b[0;32mreturn\u001b[0m \u001b[0mself\u001b[0m\u001b[0;34m.\u001b[0m\u001b[0m_getitem_multilevel\u001b[0m\u001b[0;34m(\u001b[0m\u001b[0mkey\u001b[0m\u001b[0;34m)\u001b[0m\u001b[0;34m\u001b[0m\u001b[0;34m\u001b[0m\u001b[0m\n\u001b[1;32m   2687\u001b[0m         \u001b[0;32melse\u001b[0m\u001b[0;34m:\u001b[0m\u001b[0;34m\u001b[0m\u001b[0;34m\u001b[0m\u001b[0m\n\u001b[0;32m-> 2688\u001b[0;31m             \u001b[0;32mreturn\u001b[0m \u001b[0mself\u001b[0m\u001b[0;34m.\u001b[0m\u001b[0m_getitem_column\u001b[0m\u001b[0;34m(\u001b[0m\u001b[0mkey\u001b[0m\u001b[0;34m)\u001b[0m\u001b[0;34m\u001b[0m\u001b[0;34m\u001b[0m\u001b[0m\n\u001b[0m\u001b[1;32m   2689\u001b[0m \u001b[0;34m\u001b[0m\u001b[0m\n\u001b[1;32m   2690\u001b[0m     \u001b[0;32mdef\u001b[0m \u001b[0m_getitem_column\u001b[0m\u001b[0;34m(\u001b[0m\u001b[0mself\u001b[0m\u001b[0;34m,\u001b[0m \u001b[0mkey\u001b[0m\u001b[0;34m)\u001b[0m\u001b[0;34m:\u001b[0m\u001b[0;34m\u001b[0m\u001b[0;34m\u001b[0m\u001b[0m\n",
      "\u001b[0;32m~/anaconda3/lib/python3.7/site-packages/pandas/core/frame.py\u001b[0m in \u001b[0;36m_getitem_column\u001b[0;34m(self, key)\u001b[0m\n\u001b[1;32m   2693\u001b[0m         \u001b[0;31m# get column\u001b[0m\u001b[0;34m\u001b[0m\u001b[0;34m\u001b[0m\u001b[0;34m\u001b[0m\u001b[0m\n\u001b[1;32m   2694\u001b[0m         \u001b[0;32mif\u001b[0m \u001b[0mself\u001b[0m\u001b[0;34m.\u001b[0m\u001b[0mcolumns\u001b[0m\u001b[0;34m.\u001b[0m\u001b[0mis_unique\u001b[0m\u001b[0;34m:\u001b[0m\u001b[0;34m\u001b[0m\u001b[0;34m\u001b[0m\u001b[0m\n\u001b[0;32m-> 2695\u001b[0;31m             \u001b[0;32mreturn\u001b[0m \u001b[0mself\u001b[0m\u001b[0;34m.\u001b[0m\u001b[0m_get_item_cache\u001b[0m\u001b[0;34m(\u001b[0m\u001b[0mkey\u001b[0m\u001b[0;34m)\u001b[0m\u001b[0;34m\u001b[0m\u001b[0;34m\u001b[0m\u001b[0m\n\u001b[0m\u001b[1;32m   2696\u001b[0m \u001b[0;34m\u001b[0m\u001b[0m\n\u001b[1;32m   2697\u001b[0m         \u001b[0;31m# duplicate columns & possible reduce dimensionality\u001b[0m\u001b[0;34m\u001b[0m\u001b[0;34m\u001b[0m\u001b[0;34m\u001b[0m\u001b[0m\n",
      "\u001b[0;32m~/anaconda3/lib/python3.7/site-packages/pandas/core/generic.py\u001b[0m in \u001b[0;36m_get_item_cache\u001b[0;34m(self, item)\u001b[0m\n\u001b[1;32m   2487\u001b[0m         \u001b[0mres\u001b[0m \u001b[0;34m=\u001b[0m \u001b[0mcache\u001b[0m\u001b[0;34m.\u001b[0m\u001b[0mget\u001b[0m\u001b[0;34m(\u001b[0m\u001b[0mitem\u001b[0m\u001b[0;34m)\u001b[0m\u001b[0;34m\u001b[0m\u001b[0;34m\u001b[0m\u001b[0m\n\u001b[1;32m   2488\u001b[0m         \u001b[0;32mif\u001b[0m \u001b[0mres\u001b[0m \u001b[0;32mis\u001b[0m \u001b[0;32mNone\u001b[0m\u001b[0;34m:\u001b[0m\u001b[0;34m\u001b[0m\u001b[0;34m\u001b[0m\u001b[0m\n\u001b[0;32m-> 2489\u001b[0;31m             \u001b[0mvalues\u001b[0m \u001b[0;34m=\u001b[0m \u001b[0mself\u001b[0m\u001b[0;34m.\u001b[0m\u001b[0m_data\u001b[0m\u001b[0;34m.\u001b[0m\u001b[0mget\u001b[0m\u001b[0;34m(\u001b[0m\u001b[0mitem\u001b[0m\u001b[0;34m)\u001b[0m\u001b[0;34m\u001b[0m\u001b[0;34m\u001b[0m\u001b[0m\n\u001b[0m\u001b[1;32m   2490\u001b[0m             \u001b[0mres\u001b[0m \u001b[0;34m=\u001b[0m \u001b[0mself\u001b[0m\u001b[0;34m.\u001b[0m\u001b[0m_box_item_values\u001b[0m\u001b[0;34m(\u001b[0m\u001b[0mitem\u001b[0m\u001b[0;34m,\u001b[0m \u001b[0mvalues\u001b[0m\u001b[0;34m)\u001b[0m\u001b[0;34m\u001b[0m\u001b[0;34m\u001b[0m\u001b[0m\n\u001b[1;32m   2491\u001b[0m             \u001b[0mcache\u001b[0m\u001b[0;34m[\u001b[0m\u001b[0mitem\u001b[0m\u001b[0;34m]\u001b[0m \u001b[0;34m=\u001b[0m \u001b[0mres\u001b[0m\u001b[0;34m\u001b[0m\u001b[0;34m\u001b[0m\u001b[0m\n",
      "\u001b[0;32m~/anaconda3/lib/python3.7/site-packages/pandas/core/internals.py\u001b[0m in \u001b[0;36mget\u001b[0;34m(self, item, fastpath)\u001b[0m\n\u001b[1;32m   4113\u001b[0m \u001b[0;34m\u001b[0m\u001b[0m\n\u001b[1;32m   4114\u001b[0m             \u001b[0;32mif\u001b[0m \u001b[0;32mnot\u001b[0m \u001b[0misna\u001b[0m\u001b[0;34m(\u001b[0m\u001b[0mitem\u001b[0m\u001b[0;34m)\u001b[0m\u001b[0;34m:\u001b[0m\u001b[0;34m\u001b[0m\u001b[0;34m\u001b[0m\u001b[0m\n\u001b[0;32m-> 4115\u001b[0;31m                 \u001b[0mloc\u001b[0m \u001b[0;34m=\u001b[0m \u001b[0mself\u001b[0m\u001b[0;34m.\u001b[0m\u001b[0mitems\u001b[0m\u001b[0;34m.\u001b[0m\u001b[0mget_loc\u001b[0m\u001b[0;34m(\u001b[0m\u001b[0mitem\u001b[0m\u001b[0;34m)\u001b[0m\u001b[0;34m\u001b[0m\u001b[0;34m\u001b[0m\u001b[0m\n\u001b[0m\u001b[1;32m   4116\u001b[0m             \u001b[0;32melse\u001b[0m\u001b[0;34m:\u001b[0m\u001b[0;34m\u001b[0m\u001b[0;34m\u001b[0m\u001b[0m\n\u001b[1;32m   4117\u001b[0m                 \u001b[0mindexer\u001b[0m \u001b[0;34m=\u001b[0m \u001b[0mnp\u001b[0m\u001b[0;34m.\u001b[0m\u001b[0marange\u001b[0m\u001b[0;34m(\u001b[0m\u001b[0mlen\u001b[0m\u001b[0;34m(\u001b[0m\u001b[0mself\u001b[0m\u001b[0;34m.\u001b[0m\u001b[0mitems\u001b[0m\u001b[0;34m)\u001b[0m\u001b[0;34m)\u001b[0m\u001b[0;34m[\u001b[0m\u001b[0misna\u001b[0m\u001b[0;34m(\u001b[0m\u001b[0mself\u001b[0m\u001b[0;34m.\u001b[0m\u001b[0mitems\u001b[0m\u001b[0;34m)\u001b[0m\u001b[0;34m]\u001b[0m\u001b[0;34m\u001b[0m\u001b[0;34m\u001b[0m\u001b[0m\n",
      "\u001b[0;32m~/anaconda3/lib/python3.7/site-packages/pandas/core/indexes/base.py\u001b[0m in \u001b[0;36mget_loc\u001b[0;34m(self, key, method, tolerance)\u001b[0m\n\u001b[1;32m   3078\u001b[0m                 \u001b[0;32mreturn\u001b[0m \u001b[0mself\u001b[0m\u001b[0;34m.\u001b[0m\u001b[0m_engine\u001b[0m\u001b[0;34m.\u001b[0m\u001b[0mget_loc\u001b[0m\u001b[0;34m(\u001b[0m\u001b[0mkey\u001b[0m\u001b[0;34m)\u001b[0m\u001b[0;34m\u001b[0m\u001b[0;34m\u001b[0m\u001b[0m\n\u001b[1;32m   3079\u001b[0m             \u001b[0;32mexcept\u001b[0m \u001b[0mKeyError\u001b[0m\u001b[0;34m:\u001b[0m\u001b[0;34m\u001b[0m\u001b[0;34m\u001b[0m\u001b[0m\n\u001b[0;32m-> 3080\u001b[0;31m                 \u001b[0;32mreturn\u001b[0m \u001b[0mself\u001b[0m\u001b[0;34m.\u001b[0m\u001b[0m_engine\u001b[0m\u001b[0;34m.\u001b[0m\u001b[0mget_loc\u001b[0m\u001b[0;34m(\u001b[0m\u001b[0mself\u001b[0m\u001b[0;34m.\u001b[0m\u001b[0m_maybe_cast_indexer\u001b[0m\u001b[0;34m(\u001b[0m\u001b[0mkey\u001b[0m\u001b[0;34m)\u001b[0m\u001b[0;34m)\u001b[0m\u001b[0;34m\u001b[0m\u001b[0;34m\u001b[0m\u001b[0m\n\u001b[0m\u001b[1;32m   3081\u001b[0m \u001b[0;34m\u001b[0m\u001b[0m\n\u001b[1;32m   3082\u001b[0m         \u001b[0mindexer\u001b[0m \u001b[0;34m=\u001b[0m \u001b[0mself\u001b[0m\u001b[0;34m.\u001b[0m\u001b[0mget_indexer\u001b[0m\u001b[0;34m(\u001b[0m\u001b[0;34m[\u001b[0m\u001b[0mkey\u001b[0m\u001b[0;34m]\u001b[0m\u001b[0;34m,\u001b[0m \u001b[0mmethod\u001b[0m\u001b[0;34m=\u001b[0m\u001b[0mmethod\u001b[0m\u001b[0;34m,\u001b[0m \u001b[0mtolerance\u001b[0m\u001b[0;34m=\u001b[0m\u001b[0mtolerance\u001b[0m\u001b[0;34m)\u001b[0m\u001b[0;34m\u001b[0m\u001b[0;34m\u001b[0m\u001b[0m\n",
      "\u001b[0;32mpandas/_libs/index.pyx\u001b[0m in \u001b[0;36mpandas._libs.index.IndexEngine.get_loc\u001b[0;34m()\u001b[0m\n",
      "\u001b[0;32mpandas/_libs/index.pyx\u001b[0m in \u001b[0;36mpandas._libs.index.IndexEngine.get_loc\u001b[0;34m()\u001b[0m\n",
      "\u001b[0;32mpandas/_libs/hashtable_class_helper.pxi\u001b[0m in \u001b[0;36mpandas._libs.hashtable.PyObjectHashTable.get_item\u001b[0;34m()\u001b[0m\n",
      "\u001b[0;32mpandas/_libs/hashtable_class_helper.pxi\u001b[0m in \u001b[0;36mpandas._libs.hashtable.PyObjectHashTable.get_item\u001b[0;34m()\u001b[0m\n",
      "\u001b[0;31mKeyError\u001b[0m: 'predicted_score'"
     ]
    }
   ],
   "source": [
    "num_feature = count_feature_list\n",
    "print(train_x.columns.values)\n",
    "train_csr = sparse.hstack((sparse.csr_matrix(train_x[num_feature]),base_train_csr),'csr').astype('float32')\n",
    "predict_csr = sparse.hstack((sparse.csr_matrix(predict_x[num_feature]),base_predict_csr),'csr').astype('float32')\n",
    "lgb_model = lgb.LGBMClassifier(boosting_type='gbdt', \n",
    "                               num_leaves=122, reg_alpha=3, reg_lambda=1,\n",
    "                               max_depth = -1, n_estimators=5000,objective='multiclass',num_class=6,\n",
    "                               subsample=0.8,colsample_bytree=0.8,subsample_feq=1,\n",
    "                               learning_rate=0.1,random_state=2018,n_jobs=10\n",
    "                              )\n",
    "skf = StratifiedKFold(n_splits=5, random_state=2018,shuffle=True)\n",
    "best_score = []\n",
    "print(train_y)\n",
    "\n",
    "for index, (train_index, test_index) in enumerate(skf.split(train_csr,train_y)):\n",
    "    lgb_model.fit(train_csr[train_index], train_y[train_index],\n",
    "                 eval_set=[(train_csr[train_index],train_y[train_index]),\n",
    "                          (train_csr[test_index],train_y[test_index])],early_stopping_rounds=200, verbose=10)\n",
    "    best_score.append(lgb_model.best_score_['valid_1']['multi_logloss'])\n",
    "    print(best_score)\n",
    "    test_pred = lgb_model.predict(predict_csr)\n",
    "    print(test_pred)\n",
    "    pred_temp['label'] = test_pred\n",
    "    now = datetime.datetime.now()\n",
    "    now = now.strftime('%m-%d-%H-%M')\n",
    "    pred_temp[['uld','label']].to_csv(path + \"/submission/lgb_baseline_split_%s.csv\" % now, index=False)\n",
    "    predict_result['predicted_score'] = predict_result['predicted_score'] + test_pred\n",
    "predict_result['predicted_score'] = predict_result['predicted_score'] / 5\n",
    "mean = predict_result['predicted_score'].mean()\n",
    "print('mean:',mean)\n",
    "\n",
    "now = datetime.datetime.now()\n",
    "now = now.strftime('%m-%d-%H-%M')\n",
    "predict_result['label'] = predict_result['predicted_score']\n",
    "predict_result[['uld','label']].to_csv(path + \"/submission/lgb_baseline_%s.csv\" % now, index=False)"
   ]
  },
  {
   "cell_type": "code",
   "execution_count": 13,
   "metadata": {},
   "outputs": [
    {
     "data": {
      "text/plain": [
       "['lgb.pkl']"
      ]
     },
     "execution_count": 13,
     "metadata": {},
     "output_type": "execute_result"
    }
   ],
   "source": [
    "from sklearn.externals import joblib\n",
    "joblib.dump(lgb_model,'lgb.pkl')"
   ]
  },
  {
   "cell_type": "code",
   "execution_count": 23,
   "metadata": {},
   "outputs": [
    {
     "name": "stderr",
     "output_type": "stream",
     "text": [
      "/home/iprai/anaconda3/lib/python3.7/site-packages/ipykernel_launcher.py:1: SettingWithCopyWarning: \n",
      "A value is trying to be set on a copy of a slice from a DataFrame.\n",
      "Try using .loc[row_indexer,col_indexer] = value instead\n",
      "\n",
      "See the caveats in the documentation: http://pandas.pydata.org/pandas-docs/stable/indexing.html#indexing-view-versus-copy\n",
      "  \"\"\"Entry point for launching an IPython kernel.\n"
     ]
    }
   ],
   "source": []
  },
  {
   "cell_type": "code",
   "execution_count": null,
   "metadata": {},
   "outputs": [],
   "source": []
  }
 ],
 "metadata": {
  "kernelspec": {
   "display_name": "Python 3",
   "language": "python",
   "name": "python3"
  },
  "language_info": {
   "codemirror_mode": {
    "name": "ipython",
    "version": 3
   },
   "file_extension": ".py",
   "mimetype": "text/x-python",
   "name": "python",
   "nbconvert_exporter": "python",
   "pygments_lexer": "ipython3",
   "version": "3.7.1"
  }
 },
 "nbformat": 4,
 "nbformat_minor": 2
}
